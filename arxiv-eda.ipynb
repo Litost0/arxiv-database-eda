{
 "cells": [
  {
   "cell_type": "code",
   "execution_count": 1,
   "metadata": {},
   "outputs": [],
   "source": [
    "import pandas as pd\n",
    "import matplotlib.pyplot as plt\n",
    "import seaborn as sns"
   ]
  },
  {
   "cell_type": "code",
   "execution_count": 2,
   "metadata": {},
   "outputs": [],
   "source": [
    "import nltk"
   ]
  },
  {
   "cell_type": "code",
   "execution_count": 3,
   "metadata": {},
   "outputs": [],
   "source": [
    "import sqlite3, json"
   ]
  },
  {
   "cell_type": "code",
   "execution_count": 4,
   "metadata": {},
   "outputs": [],
   "source": [
    "RATIO = 0.618"
   ]
  },
  {
   "cell_type": "markdown",
   "metadata": {},
   "source": [
    "### GET field names    "
   ]
  },
  {
   "cell_type": "code",
   "execution_count": 5,
   "metadata": {},
   "outputs": [
    {
     "name": "stdout",
     "output_type": "stream",
     "text": [
      "['abstract', 'authors', 'authors_parsed', 'categories', 'comments', 'doi', 'id', 'journal-ref', 'license', 'report-no', 'submitter', 'title', 'update_date', 'versions']\n"
     ]
    }
   ],
   "source": [
    "conn = sqlite3.connect('arxiv.db')\n",
    "cursor = conn.cursor()\n",
    "\n",
    "info = cursor.execute(\"PRAGMA TABLE_INFO(arxiv)\")\n",
    "field_names = [record[1] for record in info]\n",
    "print(field_names)\n",
    "\n",
    "cursor.close()\n",
    "conn.close()"
   ]
  },
  {
   "cell_type": "markdown",
   "metadata": {},
   "source": [
    "### SELECT categories and update_date from table"
   ]
  },
  {
   "cell_type": "code",
   "execution_count": 7,
   "metadata": {},
   "outputs": [],
   "source": [
    "def get_date_and_cats():\n",
    "    with sqlite3.connect('arxiv.db') as conn:\n",
    "        cursor = conn.cursor()\n",
    "        query = 'SELECT id, update_date, categories FROM arxiv ORDER BY update_date'\n",
    "        query_result = cursor.execute(query)\n",
    "        data = pd.DataFrame(query_result.fetchall())\n",
    "        data.columns = ['id', 'update_date', 'categories']\n",
    "        data = data.set_index(data.id).drop(columns=['id'])\n",
    "        cursor.close()\n",
    "\n",
    "    return data"
   ]
  },
  {
   "cell_type": "code",
   "execution_count": 8,
   "metadata": {},
   "outputs": [
    {
     "data": {
      "text/html": [
       "<div>\n",
       "<style scoped>\n",
       "    .dataframe tbody tr th:only-of-type {\n",
       "        vertical-align: middle;\n",
       "    }\n",
       "\n",
       "    .dataframe tbody tr th {\n",
       "        vertical-align: top;\n",
       "    }\n",
       "\n",
       "    .dataframe thead th {\n",
       "        text-align: right;\n",
       "    }\n",
       "</style>\n",
       "<table border=\"1\" class=\"dataframe\">\n",
       "  <thead>\n",
       "    <tr style=\"text-align: right;\">\n",
       "      <th></th>\n",
       "      <th>update_date</th>\n",
       "      <th>categories</th>\n",
       "    </tr>\n",
       "    <tr>\n",
       "      <th>id</th>\n",
       "      <th></th>\n",
       "      <th></th>\n",
       "    </tr>\n",
       "  </thead>\n",
       "  <tbody>\n",
       "    <tr>\n",
       "      <th>0704.0004</th>\n",
       "      <td>2007-05-23</td>\n",
       "      <td>math.CO</td>\n",
       "    </tr>\n",
       "    <tr>\n",
       "      <th>0704.0010</th>\n",
       "      <td>2007-05-23</td>\n",
       "      <td>math.CO</td>\n",
       "    </tr>\n",
       "    <tr>\n",
       "      <th>0704.0012</th>\n",
       "      <td>2007-05-23</td>\n",
       "      <td>math.NT</td>\n",
       "    </tr>\n",
       "    <tr>\n",
       "      <th>0704.0018</th>\n",
       "      <td>2007-05-23</td>\n",
       "      <td>hep-th</td>\n",
       "    </tr>\n",
       "    <tr>\n",
       "      <th>0704.0034</th>\n",
       "      <td>2007-05-23</td>\n",
       "      <td>q-bio.PE q-bio.CB quant-ph</td>\n",
       "    </tr>\n",
       "  </tbody>\n",
       "</table>\n",
       "</div>"
      ],
      "text/plain": [
       "          update_date                  categories\n",
       "id                                               \n",
       "0704.0004  2007-05-23                     math.CO\n",
       "0704.0010  2007-05-23                     math.CO\n",
       "0704.0012  2007-05-23                     math.NT\n",
       "0704.0018  2007-05-23                      hep-th\n",
       "0704.0034  2007-05-23  q-bio.PE q-bio.CB quant-ph"
      ]
     },
     "execution_count": 8,
     "metadata": {},
     "output_type": "execute_result"
    }
   ],
   "source": [
    "data = get_date_and_cats()\n",
    "data.head()"
   ]
  },
  {
   "cell_type": "code",
   "execution_count": 9,
   "metadata": {},
   "outputs": [],
   "source": [
    "data['year-month'] = data.update_date.str.extract(r'([0-9]+-[0-9]+)-[0-9]+')\n",
    "data['year'] = data.update_date.str.extract(r'([0-9]+)-[0-9]+-[0-9]+')"
   ]
  },
  {
   "cell_type": "code",
   "execution_count": 10,
   "metadata": {},
   "outputs": [
    {
     "data": {
      "text/plain": [
       "year\n",
       "2007    146648\n",
       "2008     69535\n",
       "2009    229386\n",
       "2010     56492\n",
       "2011     62190\n",
       "2012     57709\n",
       "2013     72579\n",
       "2014     88881\n",
       "2015    216670\n",
       "2016    135461\n",
       "2017    125866\n",
       "2018    143191\n",
       "2019    177383\n",
       "2020    165316\n",
       "dtype: int64"
      ]
     },
     "execution_count": 10,
     "metadata": {},
     "output_type": "execute_result"
    }
   ],
   "source": [
    "year_groups = data.groupby('year').apply(len)\n",
    "year_groups"
   ]
  },
  {
   "cell_type": "code",
   "execution_count": 11,
   "metadata": {},
   "outputs": [
    {
     "data": {
      "text/plain": [
       "<matplotlib.axes._subplots.AxesSubplot at 0x1a56d768d0>"
      ]
     },
     "execution_count": 11,
     "metadata": {},
     "output_type": "execute_result"
    },
    {
     "data": {
      "image/png": "[encoded data removed]",
      "text/plain": [
       "<Figure size 720x444.96 with 1 Axes>"
      ]
     },
     "metadata": {
      "needs_background": "light"
     },
     "output_type": "display_data"
    }
   ],
   "source": [
    "plt.figure(figsize=(10, 10*RATIO))\n",
    "sns.barplot(x=year_groups.index, y=year_groups, color='navy')"
   ]
  },
  {
   "cell_type": "markdown",
   "metadata": {},
   "source": [
    "### GROUP BY categories"
   ]
  },
  {
   "cell_type": "code",
   "execution_count": 14,
   "metadata": {},
   "outputs": [
    {
     "data": {
      "text/plain": [
       "id\n",
       "0704.0004                                                   [math.CO]\n",
       "0704.0010                                                   [math.CO]\n",
       "0704.0012                                                   [math.NT]\n",
       "0704.0018                                                    [hep-th]\n",
       "0704.0034                              [q-bio.PE, q-bio.CB, quant-ph]\n",
       "0704.0037                           [physics.optics, physics.comp-ph]\n",
       "0704.0049                                                   [math.CO]\n",
       "0704.0050                                              [cs.NE, cs.AI]\n",
       "0704.0052                                                    [hep-th]\n",
       "0704.0061                                                   [math.FA]\n",
       "0704.0066                                                    [hep-th]\n",
       "0704.0071                                            [physics.soc-ph]\n",
       "0704.0072                                          [math-ph, math.MP]\n",
       "0704.0077                                            [physics.gen-ph]\n",
       "0704.0079                                                   [math.OA]\n",
       "0704.0081                [math.QA, hep-th, math-ph, math.MP, math.RT]\n",
       "0704.0088                                            [physics.optics]\n",
       "0704.0089                           [physics.data-an, physics.gen-ph]\n",
       "0704.0090           [cs.CE, cond-mat.stat-mech, cs.MS, cs.NA, phys...\n",
       "0704.0094                                                  [astro-ph]\n",
       "0704.0096                                                   [nlin.SI]\n",
       "0704.0097                                 [math-ph, math.MP, math.OA]\n",
       "0704.0099                                                   [math.FA]\n",
       "0704.0102                                          [math.AC, math.AG]\n",
       "0704.0104                                          [math.DG, math.RT]\n",
       "0704.0108                                                     [cs.CC]\n",
       "0704.0109                         [cond-mat.mtrl-sci, cond-mat.other]\n",
       "0704.0111                                          [math.QA, math.KT]\n",
       "0704.0113                                         [cond-mat.mtrl-sci]\n",
       "0704.0115                                                   [math.GT]\n",
       "                                          ...                        \n",
       "2008.05444                                              [astro-ph.EP]\n",
       "2008.05445                                         [quant-ph, hep-th]\n",
       "2008.05446                                           [math.NA, cs.NA]\n",
       "2008.05447                                                  [eess.SP]\n",
       "2008.05448                                         [math.ST, stat.TH]\n",
       "2008.05449                                      [cs.SE, cs.CL, cs.CR]\n",
       "2008.05450                                                   [hep-ph]\n",
       "2008.05451                       [cond-mat.mtrl-sci, cond-mat.str-el]\n",
       "2008.05452                        [cond-mat.mtrl-sci, physics.app-ph]\n",
       "2008.05453                                                 [quant-ph]\n",
       "2008.05454                           [cs.LG, cs.SD, eess.AS, stat.ML]\n",
       "2008.05455                                           [eess.SY, cs.SY]\n",
       "2008.05456                                  [hep-lat, cs.LG, stat.ML]\n",
       "2008.05457                                           [cs.CV, eess.IV]\n",
       "2008.05458                                           [eess.SP, cs.LG]\n",
       "2008.05459                                  [cs.LG, eess.SP, stat.ML]\n",
       "2008.05460                       [math-ph, math.AP, math.MP, nlin.SI]\n",
       "2008.05461                                              [astro-ph.HE]\n",
       "2008.05462                                                   [hep-ph]\n",
       "2008.05463                          [math.NA, cs.NA, physics.flu-dyn]\n",
       "2008.05464                                         [math.RT, math.CO]\n",
       "2008.05465                               [hep-th, astro-ph.CO, gr-qc]\n",
       "2008.05466                       [cond-mat.mes-hall, cond-mat.str-el]\n",
       "2008.05467                                           [hep-ph, hep-ex]\n",
       "2008.05468                                        [cond-mat.mtrl-sci]\n",
       "2008.05469                                [math.FA, math.CV, math.NT]\n",
       "2008.05470                         [hep-ph, hep-ex, nucl-ex, nucl-th]\n",
       "2008.05471                                       [cond-mat.quant-gas]\n",
       "cond-mat/0307340                                  [cond-mat.supr-con]\n",
       "cond-mat/0612344                                  [cond-mat.supr-con]\n",
       "Name: categories, Length: 1747307, dtype: object"
      ]
     },
     "execution_count": 14,
     "metadata": {},
     "output_type": "execute_result"
    }
   ],
   "source": [
    "data.categories.str.split(' ')"
   ]
  },
  {
   "cell_type": "code",
   "execution_count": null,
   "metadata": {},
   "outputs": [],
   "source": []
  }
 ],
 "metadata": {
  "kernelspec": {
   "display_name": "Python 3",
   "language": "python",
   "name": "python3"
  },
  "language_info": {
   "codemirror_mode": {
    "name": "ipython",
    "version": 3
   },
   "file_extension": ".py",
   "mimetype": "text/x-python",
   "name": "python",
   "nbconvert_exporter": "python",
   "pygments_lexer": "ipython3",
   "version": "3.7.3"
  }
 },
 "nbformat": 4,
 "nbformat_minor": 2
}
