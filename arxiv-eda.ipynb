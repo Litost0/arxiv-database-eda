{
 "cells": [
  {
   "cell_type": "code",
   "execution_count": 1,
   "metadata": {},
   "outputs": [],
   "source": [
    "import pandas as pd\n",
    "import matplotlib.pyplot as plt\n",
    "import pylab\n",
    "import seaborn as sns"
   ]
  },
  {
   "cell_type": "code",
   "execution_count": 2,
   "metadata": {},
   "outputs": [],
   "source": [
    "import nltk"
   ]
  },
  {
   "cell_type": "code",
   "execution_count": 3,
   "metadata": {},
   "outputs": [],
   "source": [
    "import sqlite3, json, re"
   ]
  },
  {
   "cell_type": "code",
   "execution_count": 4,
   "metadata": {},
   "outputs": [],
   "source": [
    "RATIO = 0.618"
   ]
  },
  {
   "cell_type": "markdown",
   "metadata": {},
   "source": [
    "### GET field names    "
   ]
  },
  {
   "cell_type": "code",
   "execution_count": 5,
   "metadata": {},
   "outputs": [
    {
     "name": "stdout",
     "output_type": "stream",
     "text": [
      "['abstract', 'authors', 'authors_parsed', 'categories', 'comments', 'doi', 'id', 'journal-ref', 'license', 'report-no', 'submitter', 'title', 'update_date', 'versions']\n"
     ]
    }
   ],
   "source": [
    "conn = sqlite3.connect('arxiv.db')\n",
    "cursor = conn.cursor()\n",
    "\n",
    "info = cursor.execute(\"PRAGMA TABLE_INFO(arxiv)\")\n",
    "field_names = [record[1] for record in info]\n",
    "print(field_names)\n",
    "\n",
    "cursor.close()\n",
    "conn.close()"
   ]
  },
  {
   "cell_type": "markdown",
   "metadata": {},
   "source": [
    "### SELECT categories and update_date from table"
   ]
  },
  {
   "cell_type": "code",
   "execution_count": 8,
   "metadata": {},
   "outputs": [],
   "source": [
    "def get_date_and_cats():\n",
    "    with sqlite3.connect('arxiv.db') as conn:\n",
    "        cursor = conn.cursor()\n",
    "        query = 'SELECT id, update_date, categories FROM arxiv ORDER BY update_date'\n",
    "        query_result = cursor.execute(query)\n",
    "        data = pd.DataFrame(query_result.fetchall())\n",
    "        data.columns = ['id', 'update_date', 'categories']\n",
    "        data = data.set_index(data.id).drop(columns=['id'])\n",
    "        cursor.close()\n",
    "\n",
    "    return data"
   ]
  },
  {
   "cell_type": "code",
   "execution_count": 9,
   "metadata": {},
   "outputs": [
    {
     "data": {
      "text/html": [
       "<div>\n",
       "<style scoped>\n",
       "    .dataframe tbody tr th:only-of-type {\n",
       "        vertical-align: middle;\n",
       "    }\n",
       "\n",
       "    .dataframe tbody tr th {\n",
       "        vertical-align: top;\n",
       "    }\n",
       "\n",
       "    .dataframe thead th {\n",
       "        text-align: right;\n",
       "    }\n",
       "</style>\n",
       "<table border=\"1\" class=\"dataframe\">\n",
       "  <thead>\n",
       "    <tr style=\"text-align: right;\">\n",
       "      <th></th>\n",
       "      <th>update_date</th>\n",
       "      <th>categories</th>\n",
       "    </tr>\n",
       "    <tr>\n",
       "      <th>id</th>\n",
       "      <th></th>\n",
       "      <th></th>\n",
       "    </tr>\n",
       "  </thead>\n",
       "  <tbody>\n",
       "    <tr>\n",
       "      <th>0704.0004</th>\n",
       "      <td>2007-05-23</td>\n",
       "      <td>math.CO</td>\n",
       "    </tr>\n",
       "    <tr>\n",
       "      <th>0704.0010</th>\n",
       "      <td>2007-05-23</td>\n",
       "      <td>math.CO</td>\n",
       "    </tr>\n",
       "    <tr>\n",
       "      <th>0704.0012</th>\n",
       "      <td>2007-05-23</td>\n",
       "      <td>math.NT</td>\n",
       "    </tr>\n",
       "    <tr>\n",
       "      <th>0704.0018</th>\n",
       "      <td>2007-05-23</td>\n",
       "      <td>hep-th</td>\n",
       "    </tr>\n",
       "    <tr>\n",
       "      <th>0704.0034</th>\n",
       "      <td>2007-05-23</td>\n",
       "      <td>q-bio.PE q-bio.CB quant-ph</td>\n",
       "    </tr>\n",
       "  </tbody>\n",
       "</table>\n",
       "</div>"
      ],
      "text/plain": [
       "          update_date                  categories\n",
       "id                                               \n",
       "0704.0004  2007-05-23                     math.CO\n",
       "0704.0010  2007-05-23                     math.CO\n",
       "0704.0012  2007-05-23                     math.NT\n",
       "0704.0018  2007-05-23                      hep-th\n",
       "0704.0034  2007-05-23  q-bio.PE q-bio.CB quant-ph"
      ]
     },
     "execution_count": 9,
     "metadata": {},
     "output_type": "execute_result"
    }
   ],
   "source": [
    "data = get_date_and_cats()\n",
    "data.head()"
   ]
  },
  {
   "cell_type": "code",
   "execution_count": 10,
   "metadata": {},
   "outputs": [],
   "source": [
    "data['year-month'] = data.update_date.str.extract(r'([0-9]+-[0-9]+)-[0-9]+')\n",
    "data['year'] = data.update_date.str.extract(r'([0-9]+)-[0-9]+-[0-9]+')"
   ]
  },
  {
   "cell_type": "code",
   "execution_count": 22,
   "metadata": {},
   "outputs": [
    {
     "data": {
      "text/plain": [
       "year\n",
       "2007    146648\n",
       "2008     69535\n",
       "2009    229386\n",
       "2010     56492\n",
       "2011     62190\n",
       "2012     57709\n",
       "2013     72579\n",
       "2014     88881\n",
       "2015    216670\n",
       "2016    135461\n",
       "2017    125866\n",
       "2018    143191\n",
       "2019    177383\n",
       "2020    165316\n",
       "dtype: int64"
      ]
     },
     "execution_count": 22,
     "metadata": {},
     "output_type": "execute_result"
    }
   ],
   "source": [
    "year_groups = data.groupby('year').apply(len)\n",
    "year_groups"
   ]
  },
  {
   "cell_type": "code",
   "execution_count": 23,
   "metadata": {},
   "outputs": [
    {
     "data": {
      "text/plain": [
       "<matplotlib.axes._subplots.AxesSubplot at 0x1ab26b8ddc8>"
      ]
     },
     "execution_count": 23,
     "metadata": {},
     "output_type": "execute_result"
    },
    {
     "data": {
      "image/png": "[encoded data removed]",
      "text/plain": [
       "<Figure size 720x444.96 with 1 Axes>"
      ]
     },
     "metadata": {
      "needs_background": "light"
     },
     "output_type": "display_data"
    }
   ],
   "source": [
    "plt.figure(figsize=(10, 10*RATIO))\n",
    "sns.barplot(x=year_groups.index, y=year_groups, color='navy')"
   ]
  },
  {
   "cell_type": "markdown",
   "metadata": {},
   "source": [
    "### Top10 categories in arxiv"
   ]
  },
  {
   "cell_type": "code",
   "execution_count": 24,
   "metadata": {},
   "outputs": [],
   "source": [
    "cate_series_raw = data.categories.str.split(' ')"
   ]
  },
  {
   "cell_type": "code",
   "execution_count": 25,
   "metadata": {},
   "outputs": [],
   "source": [
    "cat_numbers = {}\n",
    "for i in range(cate_series_raw.shape[0]):\n",
    "    for cat in cate_series_raw[i]:\n",
    "        cat_numbers[cat] = cat_numbers.get(cat,0) + 1"
   ]
  },
  {
   "cell_type": "code",
   "execution_count": 26,
   "metadata": {},
   "outputs": [],
   "source": [
    "cate_se = pd.Series(cat_numbers, index=cat_numbers.keys())"
   ]
  },
  {
   "cell_type": "code",
   "execution_count": 27,
   "metadata": {},
   "outputs": [],
   "source": [
    "# The top-10 categories\n",
    "top10_cate = cate_se.sort_values(ascending=False)[:10]"
   ]
  },
  {
   "cell_type": "code",
   "execution_count": 28,
   "metadata": {},
   "outputs": [
    {
     "data": {
      "image/png": "[encoded data removed]",
      "text/plain": [
       "<Figure size 720x444.96 with 1 Axes>"
      ]
     },
     "metadata": {
      "needs_background": "light"
     },
     "output_type": "display_data"
    }
   ],
   "source": [
    "fig = plt.figure(figsize=(10, 10*RATIO))\n",
    "\n",
    "ax = sns.barplot(x=top10_cate.index, y=top10_cate,color='aqua')\n",
    "for tick in ax.get_xticklabels():\n",
    "    tick.set_rotation(-45)"
   ]
  },
  {
   "cell_type": "markdown",
   "metadata": {},
   "source": [
    "### Top authors in quant-ph category"
   ]
  },
  {
   "cell_type": "code",
   "execution_count": 29,
   "metadata": {},
   "outputs": [],
   "source": [
    "def get_authors_in_quantph():\n",
    "    with sqlite3.connect('arxiv.db') as conn:\n",
    "        cursor = conn.cursor()\n",
    "        query = '''SELECT id, update_date, authors \n",
    "                   FROM arxiv \n",
    "                   WHERE categories LIKE '%quant-ph%'\n",
    "                   ORDER BY update_date'''\n",
    "        query_result = cursor.execute(query)\n",
    "        data = pd.DataFrame(query_result.fetchall())\n",
    "        data.columns = ['id', 'update_date', 'authors']\n",
    "        data = data.set_index(data.id).drop(columns=['id'])\n",
    "        cursor.close()\n",
    "\n",
    "    return data"
   ]
  },
  {
   "cell_type": "code",
   "execution_count": 30,
   "metadata": {},
   "outputs": [
    {
     "data": {
      "text/html": [
       "<div>\n",
       "<style scoped>\n",
       "    .dataframe tbody tr th:only-of-type {\n",
       "        vertical-align: middle;\n",
       "    }\n",
       "\n",
       "    .dataframe tbody tr th {\n",
       "        vertical-align: top;\n",
       "    }\n",
       "\n",
       "    .dataframe thead th {\n",
       "        text-align: right;\n",
       "    }\n",
       "</style>\n",
       "<table border=\"1\" class=\"dataframe\">\n",
       "  <thead>\n",
       "    <tr style=\"text-align: right;\">\n",
       "      <th></th>\n",
       "      <th>update_date</th>\n",
       "      <th>authors</th>\n",
       "    </tr>\n",
       "    <tr>\n",
       "      <th>id</th>\n",
       "      <th></th>\n",
       "      <th></th>\n",
       "    </tr>\n",
       "  </thead>\n",
       "  <tbody>\n",
       "    <tr>\n",
       "      <th>0704.0034</th>\n",
       "      <td>2007-05-23</td>\n",
       "      <td>Vasily Ogryzko</td>\n",
       "    </tr>\n",
       "    <tr>\n",
       "      <th>0704.0214</th>\n",
       "      <td>2007-05-23</td>\n",
       "      <td>Miloslav Znojil</td>\n",
       "    </tr>\n",
       "    <tr>\n",
       "      <th>0704.0340</th>\n",
       "      <td>2007-05-23</td>\n",
       "      <td>Fam Le Kien, S. Dutta Gupta, and K. Hakuta</td>\n",
       "    </tr>\n",
       "    <tr>\n",
       "      <th>0704.0373</th>\n",
       "      <td>2007-05-23</td>\n",
       "      <td>Utpal Roy, Suranjana Ghosh, T. Shreecharan, an...</td>\n",
       "    </tr>\n",
       "    <tr>\n",
       "      <th>0704.0420</th>\n",
       "      <td>2007-05-23</td>\n",
       "      <td>Donald McCartor</td>\n",
       "    </tr>\n",
       "  </tbody>\n",
       "</table>\n",
       "</div>"
      ],
      "text/plain": [
       "          update_date                                            authors\n",
       "id                                                                      \n",
       "0704.0034  2007-05-23                                     Vasily Ogryzko\n",
       "0704.0214  2007-05-23                                    Miloslav Znojil\n",
       "0704.0340  2007-05-23         Fam Le Kien, S. Dutta Gupta, and K. Hakuta\n",
       "0704.0373  2007-05-23  Utpal Roy, Suranjana Ghosh, T. Shreecharan, an...\n",
       "0704.0420  2007-05-23                                    Donald McCartor"
      ]
     },
     "execution_count": 30,
     "metadata": {},
     "output_type": "execute_result"
    }
   ],
   "source": [
    "data_author = get_authors_in_quantph()\n",
    "data_author.head()"
   ]
  },
  {
   "cell_type": "code",
   "execution_count": 68,
   "metadata": {},
   "outputs": [
    {
     "data": {
      "text/plain": [
       "id\n",
       "0704.0034                                     [Vasily Ogryzko]\n",
       "0704.0214                                    [Miloslav Znojil]\n",
       "0704.0340         [Fam Le Kien,  S. Dutta Gupta, ,  K. Hakuta]\n",
       "0704.0373    [Utpal Roy,  Suranjana Ghosh,  T. Shreecharan,...\n",
       "0704.0420                                    [Donald McCartor]\n",
       "0704.0516                   [Hao Guo,  Gui Lu Long,  Yang Sun]\n",
       "0704.0520    [Tina A.C. Maiolo,  Luigi Martina,  Giulio Sol...\n",
       "0704.0573                  [Sameer M. Ikhdair,  Ramazan Sever]\n",
       "0704.0641                             [D. Porras,  J.I. Cirac]\n",
       "0704.0815    [D. Portes Jr.,  H. Rodrigues,  S. B. Duarte, ...\n",
       "0704.0965                                 [Zongwen Yu,  Su Hu]\n",
       "0704.0969                                 [Su Hu,  Zongwen Yu]\n",
       "0704.1040    [B. Geyer,  G.L. Klimchitskaya,  V.M. Mostepan...\n",
       "0704.1042                                     [Berry Groisman]\n",
       "0704.1087                                        [Doron Cohen]\n",
       "0704.1181         [Wen-Zhang Liu,  Jin-Fu Zhang,  Gui Lu Long]\n",
       "0704.1277            [William K. Wootters,  Daniel M. Sussman]\n",
       "0704.1280    [D. Kaszlikowski,  L. C. Kwek,  C. H. Lai,  V....\n",
       "0704.1309                                    [Daniel Burgarth]\n",
       "0704.1368                           [Chang Chi Kwong,  Ye Yeo]\n",
       "Name: authors, dtype: object"
      ]
     },
     "execution_count": 68,
     "metadata": {},
     "output_type": "execute_result"
    }
   ],
   "source": [
    "author_series_raw = data_author.authors.str.replace(' and',',').str.replace('\\n','').str.split(',')\n",
    "author_series_raw.head(20)"
   ]
  },
  {
   "cell_type": "code",
   "execution_count": 79,
   "metadata": {},
   "outputs": [],
   "source": [
    "def wash(author):\n",
    "        author1 = re.sub('\\(.+\\)','', author)\n",
    "        author2 = re.sub('[^A-Za-z \\.-]','',author1)\n",
    "        author3 = author2.strip()\n",
    "        return author3\n",
    "    \n",
    "author_numbers = {}\n",
    "for i in range(author_series_raw.shape[0]):\n",
    "    for author_raw in author_series_raw[i]:\n",
    "        author = wash(author_raw).strip()\n",
    "        author_numbers[author] = author_numbers.get(author,0) + 1\n",
    "\n",
    "del author_numbers['']"
   ]
  },
  {
   "cell_type": "code",
   "execution_count": 97,
   "metadata": {
    "scrolled": false
   },
   "outputs": [
    {
     "data": {
      "text/plain": [
       "Guang-Can Guo           450\n",
       "Franco Nori             382\n",
       "Shao-Ming Fei           270\n",
       "Jian-Wei Pan            259\n",
       "Nicolas Gisin           249\n",
       "Heng Fan                222\n",
       "Seth Lloyd              203\n",
       "Vittorio Giovannetti    203\n",
       "Vlatko Vedral           196\n",
       "Chuan-Feng Li           193\n",
       "dtype: int64"
      ]
     },
     "execution_count": 97,
     "metadata": {},
     "output_type": "execute_result"
    }
   ],
   "source": [
    "author_se = pd.Series(author_numbers)\n",
    "author_se.sort_values(ascending=False)[:10]"
   ]
  },
  {
   "cell_type": "code",
   "execution_count": 91,
   "metadata": {},
   "outputs": [
    {
     "data": {
      "text/plain": [
       "{'Jian-Wei Pan': 259,\n",
       " 'J.W. Pan': 1,\n",
       " 'J.-W. Pan': 6,\n",
       " 'J. -W. Pan': 1,\n",
       " 'Jian-Wei  Pan': 15,\n",
       " 'J.-W.  Pan': 2,\n",
       " 'Jie Pan': 1,\n",
       " 'J.-S. Pan': 1,\n",
       " 'Jian Pan': 3,\n",
       " 'Jiangyou Pan': 1,\n",
       " 'Jianwei Pan': 2,\n",
       " 'Jian-Song Pan': 7,\n",
       " 'Jan-Wei Pan': 1,\n",
       " 'Jiazheng Pan': 1,\n",
       " 'JianWei Pan': 1,\n",
       " 'Jian-wei Pan': 2,\n",
       " 'Jia-Zheng Pan': 1,\n",
       " 'J. Pan': 1,\n",
       " 'Junqiao Pan': 1,\n",
       " 'Jiaxin Pan': 1}"
      ]
     },
     "execution_count": 91,
     "metadata": {},
     "output_type": "execute_result"
    }
   ],
   "source": [
    "{author_se.index[i]: author_se[i] for i in range(len(author_se)) if author_se.index[i].endswith('Pan') and author_se.index[i].startswith('J')}"
   ]
  },
  {
   "cell_type": "code",
   "execution_count": 96,
   "metadata": {},
   "outputs": [
    {
     "data": {
      "text/plain": [
       "{'Guangcan Guo': 16,\n",
       " 'G.-C Guo': 1,\n",
       " 'Guang-Can Guo': 450,\n",
       " 'Guo-Ping Guo': 55,\n",
       " 'G. -C. Guo': 4,\n",
       " 'Guang Can Guo': 1,\n",
       " 'Guang-can Guo': 6,\n",
       " 'G.-C. Guo': 12,\n",
       " 'G. C. Guo': 15,\n",
       " 'G. C.  Guo': 1,\n",
       " 'Guang-Can  Guo': 30,\n",
       " 'GuangCan Guo': 8,\n",
       " 'Guang-C Guo': 1,\n",
       " 'G.C. Guo': 1,\n",
       " 'Guang-Yu Guo': 1,\n",
       " 'Guan-Can Guo': 1,\n",
       " 'Guangjie Guo': 3,\n",
       " 'Guangcan  Guo': 1,\n",
       " 'Guo-Ping  Guo': 5,\n",
       " 'G-C Guo': 1,\n",
       " 'Guoping Guo': 9,\n",
       " 'G. P. Guo': 1,\n",
       " 'Guo-ping Guo': 1,\n",
       " 'Guoping  Guo': 2}"
      ]
     },
     "execution_count": 96,
     "metadata": {},
     "output_type": "execute_result"
    }
   ],
   "source": [
    "{author_se.index[i]: author_se[i] for i in range(len(author_se)) if author_se.index[i].endswith(' Guo') and author_se.index[i].startswith('G')}"
   ]
  },
  {
   "cell_type": "code",
   "execution_count": null,
   "metadata": {},
   "outputs": [],
   "source": [
    "def find_author(author_se, start, mid, end):\n",
    "    pass"
   ]
  },
  {
   "cell_type": "markdown",
   "metadata": {},
   "source": [
    "### ------------------------ testing ---------------------"
   ]
  },
  {
   "cell_type": "code",
   "execution_count": 75,
   "metadata": {},
   "outputs": [],
   "source": [
    "strs = ['Lu-Ming Duan', 'M. D. Lukin', 'Jian Wei Pan', 'Atika Fukujima (Tokyo University) (d)', 'Maxime Clusel (ILL)','2)']"
   ]
  },
  {
   "cell_type": "code",
   "execution_count": 76,
   "metadata": {},
   "outputs": [
    {
     "name": "stdout",
     "output_type": "stream",
     "text": [
      "Lu-Ming Duan\n",
      "M. D. Lukin\n",
      "Jian Wei Pan\n",
      "Atika Fukujima \n",
      "Maxime Clusel \n",
      "\n"
     ]
    }
   ],
   "source": [
    "pattern1 = r'\\(.+\\)'\n",
    "pattern2 = '[^A-Za-z \\.-]'\n",
    "for string in strs:\n",
    "    new_str = re.sub(pattern1, '', string)\n",
    "    new_str = re.sub(pattern2, '', new_str)\n",
    "    print(new_str)"
   ]
  },
  {
   "cell_type": "code",
   "execution_count": null,
   "metadata": {},
   "outputs": [],
   "source": []
  }
 ],
 "metadata": {
  "kernelspec": {
   "display_name": "Python 3",
   "language": "python",
   "name": "python3"
  },
  "language_info": {
   "codemirror_mode": {
    "name": "ipython",
    "version": 3
   },
   "file_extension": ".py",
   "mimetype": "text/x-python",
   "name": "python",
   "nbconvert_exporter": "python",
   "pygments_lexer": "ipython3",
   "version": "3.7.6"
  }
 },
 "nbformat": 4,
 "nbformat_minor": 2
}
